{
 "cells": [
  {
   "cell_type": "code",
   "execution_count": 1,
   "metadata": {},
   "outputs": [
    {
     "name": "stderr",
     "output_type": "stream",
     "text": [
      "Using TensorFlow backend.\n"
     ]
    }
   ],
   "source": [
    "import numpy as np\n",
    "import matplotlib.pyplot as plt\n",
    "from scipy.stats import norm\n",
    "\n",
    "from keras import backend as K\n",
    "\n",
    "from keras.layers import Input, Dense, Lambda, Layer, Add, Multiply\n",
    "from keras.models import Model, Sequential\n",
    "from keras.datasets import mnist"
   ]
  },
  {
   "cell_type": "code",
   "execution_count": 4,
   "metadata": {},
   "outputs": [],
   "source": [
    "\n",
    "\n",
    "import numpy as np\n",
    "import cv2\n",
    "import os\n",
    "\n",
    "images = []\n",
    "\n",
    "for filepath in os.listdir('images/'):\n",
    "    images.append(cv2.imread('images/{0}'.format(filepath),0))\n",
    "\n"
   ]
  },
  {
   "cell_type": "code",
   "execution_count": null,
   "metadata": {},
   "outputs": [],
   "source": [
    "n,p,q= np.shape(images)\n",
    "\n",
    "BLUE = [255,255,255]\n",
    "a = []\n",
    "for i in range (n):\n",
    "    j=(cv2.copyMakeBorder(images[i], 32, 32, 16,0, cv2.BORDER_REPLICATE, value=BLUE))\n",
    "    a.append(cv2.resize(j, dsize=(32,32), interpolation=cv2.INTER_CUBIC))\n",
    "    \n",
    "x_train = np.array(a)\n",
    "\n",
    "\n",
    "x_train = x_train.astype('float32') / 255.\n",
    "\n",
    "x_train = x_train.reshape((len(x_train), 1024))"
   ]
  },
  {
   "cell_type": "code",
   "execution_count": null,
   "metadata": {},
   "outputs": [],
   "source": [
    "#for importing model\n",
    "\n",
    "\n",
    "#from keras.models import load_model\n",
    "\n",
    "#ae= load_model('model_name.h5')\n",
    "#encoder = Model(inputs=ae.input, outputs=ae.get_layer('encoder').output)\n",
    "#a= encoder.predict(x_train)"
   ]
  },
  {
   "cell_type": "code",
   "execution_count": null,
   "metadata": {},
   "outputs": [],
   "source": []
  },
  {
   "cell_type": "code",
   "execution_count": null,
   "metadata": {},
   "outputs": [],
   "source": [
    "z=[]\n",
    "for q in range (i):\n",
    "    s=(np.heaviside(a[q],0))\n",
    "    z.append(s.astype(int))\n",
    "np.savetxt('binary4.txt', m, fmt='%d')"
   ]
  },
  {
   "cell_type": "code",
   "execution_count": null,
   "metadata": {},
   "outputs": [],
   "source": []
  },
  {
   "cell_type": "code",
   "execution_count": null,
   "metadata": {},
   "outputs": [],
   "source": [
    "def ham(a):\n",
    "    s=[]\n",
    "    n= 32\n",
    "    for i in range(1061):\n",
    "        l= np.bitwise_xor(a,z[i])\n",
    "        t= np.sum(l)\n",
    "        s.append(t)\n",
    "    return s;\n",
    "\n"
   ]
  },
  {
   "cell_type": "code",
   "execution_count": null,
   "metadata": {},
   "outputs": [],
   "source": [
    "z = np.loadtxt('binary1.txt', dtype=int)\n",
    "o=ham(z[460])\n",
    "b= np.argsort(o)[:30]\n",
    "data=b\n",
    "b"
   ]
  },
  {
   "cell_type": "code",
   "execution_count": null,
   "metadata": {},
   "outputs": [],
   "source": [
    "def ranges(nums):\n",
    "    nums = sorted(set(nums))\n",
    "    gaps = [[s, e] for s, e in zip(nums, nums[1:]) if s+1 < e]\n",
    "    edges = iter(nums[:1] + sum(gaps, []) + nums[-1:])\n",
    "    return list(zip(edges, edges))"
   ]
  },
  {
   "cell_type": "code",
   "execution_count": null,
   "metadata": {},
   "outputs": [],
   "source": [
    "l= ranges(data)\n",
    "lst=b\n",
    "l[0]"
   ]
  },
  {
   "cell_type": "code",
   "execution_count": null,
   "metadata": {},
   "outputs": [],
   "source": [
    "  def check(l):\n",
    "        maximum = max(l)\n",
    "        if sum(l) == maximum * (maximum+1) /2 : \n",
    "             return True\n",
    "        return False"
   ]
  },
  {
   "cell_type": "code",
   "execution_count": null,
   "metadata": {},
   "outputs": [],
   "source": [
    "r= (l[0][0]==l[0][1])\n",
    "r"
   ]
  },
  {
   "cell_type": "code",
   "execution_count": null,
   "metadata": {},
   "outputs": [],
   "source": []
  }
 ],
 "metadata": {
  "kernelspec": {
   "display_name": "Python 3",
   "language": "python",
   "name": "python3"
  },
  "language_info": {
   "codemirror_mode": {
    "name": "ipython",
    "version": 3
   },
   "file_extension": ".py",
   "mimetype": "text/x-python",
   "name": "python",
   "nbconvert_exporter": "python",
   "pygments_lexer": "ipython3",
   "version": "3.7.5"
  }
 },
 "nbformat": 4,
 "nbformat_minor": 2
}
